{
 "cells": [
  {
   "attachments": {},
   "cell_type": "markdown",
   "metadata": {},
   "source": [
    "# Esercizi base di Python\n",
    "\n",
    "# Esercizio 1:\n",
    "Dato N, stampa a video quante ore ci sono in n settimane"
   ]
  },
  {
   "cell_type": "code",
   "execution_count": 10,
   "metadata": {},
   "outputs": [
    {
     "name": "stdout",
     "output_type": "stream",
     "text": [
      "Il numero di ore che passano in 2 settimane è 336\n"
     ]
    }
   ],
   "source": [
    "n = input(\"Inserisci un numero: \")\n",
    "\n",
    "# Converto la stringa in un numero intero\n",
    "n = int(n)\n",
    "\n",
    "# Calcolo le ore \n",
    "ore = n * (7*24)\n",
    "\n",
    "print(\"Il numero di ore che passano in\", n, \"settimane è\", ore)"
   ]
  },
  {
   "attachments": {},
   "cell_type": "markdown",
   "metadata": {},
   "source": [
    "# Esercizio 2:\n",
    "Scrivere un programma che legga da tastiera s1 e s2 e ritorni True se s2 è una sotto stringa di s1, False altrimenti"
   ]
  },
  {
   "cell_type": "code",
   "execution_count": 11,
   "metadata": {},
   "outputs": [
    {
     "name": "stdout",
     "output_type": "stream",
     "text": [
      "La seconda stringa è contenuta nella prima\n"
     ]
    }
   ],
   "source": [
    "s1 = input(\"Inserisci una stringa: \")\n",
    "s2 = input(\"Inserisci un'altra stringa: \")\n",
    "\n",
    "if (s1.find(s2)):\n",
    "    print(\"La seconda stringa è contenuta nella prima\")\n",
    "else:\n",
    "    print(\"La seconda stringa non è contenuta nella prima\")"
   ]
  },
  {
   "attachments": {},
   "cell_type": "markdown",
   "metadata": {},
   "source": [
    "# Esercizio 3:\n",
    "Scrivere un programma che ritorni True se la stringa è palindroma, False altrimenti"
   ]
  },
  {
   "cell_type": "code",
   "execution_count": 12,
   "metadata": {},
   "outputs": [
    {
     "name": "stdout",
     "output_type": "stream",
     "text": [
      "La stringa non è palindroma\n"
     ]
    }
   ],
   "source": [
    "s1 = input(\"Inserisci una stringa: \")\n",
    "s1 = s1.lower()\n",
    "\n",
    "if (s1 == s1[::-1]):\n",
    "    print(\"La stringa è palindroma\")\n",
    "else:\n",
    "    print(\"La stringa non è palindroma\")"
   ]
  }
 ],
 "metadata": {
  "kernelspec": {
   "display_name": "Python 3",
   "language": "python",
   "name": "python3"
  },
  "language_info": {
   "codemirror_mode": {
    "name": "ipython",
    "version": 3
   },
   "file_extension": ".py",
   "mimetype": "text/x-python",
   "name": "python",
   "nbconvert_exporter": "python",
   "pygments_lexer": "ipython3",
   "version": "3.10.4"
  },
  "orig_nbformat": 4
 },
 "nbformat": 4,
 "nbformat_minor": 2
}
