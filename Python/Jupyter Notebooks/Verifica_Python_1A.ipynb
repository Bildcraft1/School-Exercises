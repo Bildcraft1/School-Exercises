{
  "cells": [
    {
      "cell_type": "markdown",
      "metadata": {
        "id": "0ubeBcdnIskB"
      },
      "source": [
        "# Verifica Python - Parte 1\n",
        "Risolvere gli esercizi proposti completando le celle di codice predisposte.\n",
        "\n",
        "##Esercizio 0 (1 pt)\n",
        "Stampa il tuo nome e cognome, classe e data, assegnando le variabili proposte e formattando di conseguenza la stringa."
      ]
    },
    {
      "cell_type": "code",
      "execution_count": null,
      "metadata": {
        "id": "hxpezASTZhBR"
      },
      "outputs": [],
      "source": [
        "student = # cognome e nome\n",
        "classroom = # classe\n",
        "date = # data\n",
        "\n",
        "print() # completa la print formattando la stringa"
      ]
    },
    {
      "cell_type": "markdown",
      "metadata": {
        "id": "5cs-vB-uJH0Z"
      },
      "source": [
        "## Esercizio 1 (2 pt)\n",
        "Scrivere un programma che trova tutti i numeri compresi tra 2000 e 3200 (entrambi inclusi) divisibili per 7 che **non** sono multipli di 5.\n",
        "\n",
        "Stampare il risultato.\n",
        "\n",
        "**Bonus (+ 1 pt):** Stampare il risultato in una sola riga separando i numeri con una virgola.\n"
      ]
    },
    {
      "cell_type": "code",
      "execution_count": null,
      "metadata": {
        "id": "UoCi1s0YIpWu"
      },
      "outputs": [],
      "source": [
        "# risoluzione esercizio 1\n",
        "# scrivi il tuo codice qui"
      ]
    },
    {
      "cell_type": "markdown",
      "metadata": {
        "id": "ZFUkT2TlVU8Y"
      },
      "source": [
        "# Esercizio 2 (3 pt)\n",
        "Scrivere la funzione *anagramma(s1: str, s2: str) -> bool* che date due stringhe controlla se sono una l'anagramma dell'altra.\n",
        "\n",
        "Da **Wikipedia**: \n",
        "> Anagramma: Permutazione totale di lettere o sillabe di una parola o di una frase ( a. a frase ) in modo da ottenere altre parole o frasi di significato diverso: ramo - mora.\n",
        "\n",
        "\n",
        "**Esempio:** \"pietra\" e \"pareti\" sono anagrammi, \"remo\" e \"mare\" non sono anagrammi."
      ]
    },
    {
      "cell_type": "code",
      "execution_count": null,
      "metadata": {
        "id": "eUuD6XhyWUM2"
      },
      "outputs": [],
      "source": [
        "# risoluzione esercizio 2\n",
        "# scrivi il tuo codice qui"
      ]
    },
    {
      "cell_type": "code",
      "execution_count": null,
      "metadata": {
        "id": "zXRVnhJElHqd"
      },
      "outputs": [],
      "source": [
        "# esempi per testare la correttezza\n",
        "assert anagramma('pietra', 'pareti') == True\n",
        "assert anagramma('cortina', 'cartoni') == True\n",
        "assert anagramma('motore', 'remore') == False\n",
        "assert anagramma('remo', 'mare') == False"
      ]
    },
    {
      "cell_type": "markdown",
      "metadata": {
        "id": "lzDOcsfdkRst"
      },
      "source": [
        "# Esercizio 4 (3 pt)\n",
        "Scrivere la funzione *liste_uguali(l1: list, l2: list) -> bool* che date due liste controlla se hanno gli stessi elementi lo stesso numero di volte senza tenere in considerazione l'ordine degli elementi.\n",
        "\n",
        "**Esempio:** \n",
        "```\n",
        "l1 = [2, 4, 8, 10, 2, 6, 10, 11, 15, 11]\n",
        "l2 = [11, 11, 4, 8, 2, 10, 2, 15, 6, 10]\n",
        "l3 = [2, 4, 6, 8, 10, 11, 15]\n",
        "liste_uguali(l1, l2) == True\n",
        "liste_uguali(l1, l3) == False\n",
        "```\n"
      ]
    },
    {
      "cell_type": "code",
      "execution_count": null,
      "metadata": {
        "id": "qEurySXOkWy4"
      },
      "outputs": [],
      "source": [
        "# risoluzione esercizio 2\n",
        "# scrivi il tuo codice qui"
      ]
    },
    {
      "cell_type": "code",
      "execution_count": null,
      "metadata": {
        "id": "-gAzfCuzkcRi"
      },
      "outputs": [],
      "source": [
        "# esempi per testare la correttezza\n",
        "l1 = [2, 4, 8, 10, 2, 6, 10, 11, 15, 11]\n",
        "l2 = [11, 11, 4, 8, 2, 10, 2, 15, 6, 10]\n",
        "l3 = [2, 4, 6, 8, 10, 11, 15, 15, 11, 8]\n",
        "assert liste_uguali(l1, l2) == True\n",
        "assert liste_uguali(l1, l3) == False\n",
        "assert liste_uguali(l2, l3) == False"
      ]
    }
  ],
  "metadata": {
    "colab": {
      "provenance": []
    },
    "kernelspec": {
      "display_name": "Python 3",
      "name": "python3"
    },
    "language_info": {
      "name": "python",
      "version": "3.10.4"
    }
  },
  "nbformat": 4,
  "nbformat_minor": 0
}
