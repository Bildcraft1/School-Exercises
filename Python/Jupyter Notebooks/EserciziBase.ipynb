{
 "cells": [
  {
   "attachments": {},
   "cell_type": "markdown",
   "metadata": {},
   "source": [
    "# Esercizi base di Python\n",
    "\n",
    "# Esercizio 1:\n",
    "Dato N, stampa a video quante ore ci sono in n settimane"
   ]
  },
  {
   "cell_type": "code",
   "execution_count": 5,
   "metadata": {},
   "outputs": [
    {
     "name": "stdout",
     "output_type": "stream",
     "text": [
      "Il numero di ore che passano in 4 settimane è 672\n"
     ]
    }
   ],
   "source": [
    "n = input(\"Inserisci un numero: \")\n",
    "\n",
    "# Converto la stringa in un numero intero\n",
    "n = int(n)\n",
    "\n",
    "# Calcolo le ore \n",
    "ore = n * (7*24)\n",
    "\n",
    "print(\"Il numero di ore che passano in\", n, \"settimane è\", ore)"
   ]
  },
  {
   "attachments": {},
   "cell_type": "markdown",
   "metadata": {},
   "source": [
    "# Esercizio 2:\n",
    "Scrivere un programma che legga da tastiera s1 e s2 e ritorni True se s2 è una sotto stringa di s1, False altrimenti"
   ]
  },
  {
   "cell_type": "code",
   "execution_count": 11,
   "metadata": {},
   "outputs": [
    {
     "name": "stdout",
     "output_type": "stream",
     "text": [
      "La seconda stringa è contenuta nella prima\n"
     ]
    }
   ],
   "source": [
    "s1 = input(\"Inserisci una stringa: \")\n",
    "s2 = input(\"Inserisci un'altra stringa: \")\n",
    "\n",
    "if (s1.find(s2)):\n",
    "    print(\"La seconda stringa è contenuta nella prima\")\n",
    "else:\n",
    "    print(\"La seconda stringa non è contenuta nella prima\")"
   ]
  },
  {
   "attachments": {},
   "cell_type": "markdown",
   "metadata": {},
   "source": [
    "# Esercizio 3:\n",
    "Scrivere un programma che ritorni True se la stringa è palindroma, False altrimenti"
   ]
  },
  {
   "cell_type": "code",
   "execution_count": 12,
   "metadata": {},
   "outputs": [
    {
     "name": "stdout",
     "output_type": "stream",
     "text": [
      "La stringa non è palindroma\n"
     ]
    }
   ],
   "source": [
    "s1 = input(\"Inserisci una stringa: \")\n",
    "s1 = s1.lower()\n",
    "\n",
    "if (s1 == s1[::-1]):\n",
    "    print(\"La stringa è palindroma\")\n",
    "else:\n",
    "    print(\"La stringa non è palindroma\")"
   ]
  },
  {
   "attachments": {},
   "cell_type": "markdown",
   "metadata": {},
   "source": [
    "# Esercizio 4:\n",
    "Scrivere un programma che riceva come input una stringa, un marcatore e un sostitutore.\n",
    "Stampa a video la stringa contente il sostitutore al posto del marcatore"
   ]
  },
  {
   "cell_type": "code",
   "execution_count": 2,
   "metadata": {},
   "outputs": [
    {
     "name": "stdout",
     "output_type": "stream",
     "text": [
      "perchè sei lezzo\n"
     ]
    }
   ],
   "source": [
    "source = input(\"Inserisci una frase: \")\n",
    "mark = input(\"Inserisci il marcatore: \")\n",
    "replace = input(\"Inserisci sostitutore: \")\n",
    "\n",
    "source = source.replace(mark, replace)\n",
    "\n",
    "print(source)"
   ]
  },
  {
   "attachments": {},
   "cell_type": "markdown",
   "metadata": {},
   "source": [
    "Senza utilizzare il metodo replace"
   ]
  },
  {
   "cell_type": "code",
   "execution_count": 6,
   "metadata": {},
   "outputs": [
    {
     "name": "stdout",
     "output_type": "stream",
     "text": [
      "non capisco perchè fai cosi\n"
     ]
    }
   ],
   "source": [
    "source = input(\"Inserisci una frase: \")\n",
    "mark = input(\"Inserisci il marcatore: \")\n",
    "replace = input(\"Inserisci sostitutore: \")\n",
    "\n",
    "source = source[:source.find(mark)] + replace + source[source.find(mark)+len(mark):]\n",
    "\n",
    "print(source)"
   ]
  },
  {
   "attachments": {},
   "cell_type": "markdown",
   "metadata": {},
   "source": [
    "# Esercizio 5:\n",
    "Scrivere un programma che dato un numero, lo stampi a video arrotondato, è necessario l'uso della funzione str(x) che trasforma un numero in stringa"
   ]
  },
  {
   "cell_type": "code",
   "execution_count": 11,
   "metadata": {},
   "outputs": [
    {
     "name": "stdout",
     "output_type": "stream",
     "text": [
      "Il numero arrotondato è 6\n"
     ]
    }
   ],
   "source": [
    "# Scrivere un programma che dato un numero, lo stampi a video arrotondato, è necessario l'uso della funzione str(x) che trasforma un numero in stringa\n",
    "x = input(\"Inserisci un numero: \")\n",
    "x = float(x)\n",
    "\n",
    "print(\"Il numero arrotondato è\", str(round(x)))"
   ]
  }
 ],
 "metadata": {
  "kernelspec": {
   "display_name": "Python 3",
   "language": "python",
   "name": "python3"
  },
  "language_info": {
   "codemirror_mode": {
    "name": "ipython",
    "version": 3
   },
   "file_extension": ".py",
   "mimetype": "text/x-python",
   "name": "python",
   "nbconvert_exporter": "python",
   "pygments_lexer": "ipython3",
   "version": "3.10.4"
  },
  "orig_nbformat": 4
 },
 "nbformat": 4,
 "nbformat_minor": 2
}
